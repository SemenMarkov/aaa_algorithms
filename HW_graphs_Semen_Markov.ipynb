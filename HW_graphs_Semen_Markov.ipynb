{
 "cells": [
  {
   "cell_type": "code",
   "execution_count": 222,
   "metadata": {},
   "outputs": [],
   "source": [
    "import pandas as pd\n",
    "import numpy as np\n",
    "from collections import namedtuple, defaultdict\n",
    "from queue import deque\n",
    "from heapq import heappop, heappush"
   ]
  },
  {
   "cell_type": "code",
   "execution_count": 205,
   "metadata": {},
   "outputs": [],
   "source": [
    "wiki_pages = pd.read_csv('simple_english_wiki_pages.csv')\n",
    "pagelinks = pd.read_csv('simple_english_wiki_pagelinks.csv')"
   ]
  },
  {
   "cell_type": "code",
   "execution_count": 207,
   "metadata": {},
   "outputs": [],
   "source": [
    "full_df = wiki_pages.merge(pagelinks, how='right', left_on='page_id', right_on='pl_from')"
   ]
  },
  {
   "cell_type": "code",
   "execution_count": 209,
   "metadata": {},
   "outputs": [],
   "source": [
    "full_df.page_title = full_df.page_title.astype(str)\n",
    "full_df.pl_title = full_df.pl_title.astype(str)"
   ]
  },
  {
   "cell_type": "code",
   "execution_count": 210,
   "metadata": {},
   "outputs": [],
   "source": [
    "Edge = namedtuple('Edge', 'src dst')\n",
    "\n",
    "class DirectedGraph:\n",
    "    \n",
    "    def __init__(self):\n",
    "        self.neighbors = defaultdict(set)\n",
    "        self.nodes = set()\n",
    "        \n",
    "    def add_edge(self, edge: Edge):\n",
    "        self.neighbors[edge.src].add(edge.dst)\n",
    "        self.nodes.add(edge.src)\n",
    "        self.nodes.add(edge.dst)\n",
    "            \n",
    "    def __getitem__(self, item):\n",
    "        return self.neighbors.get(item)"
   ]
  },
  {
   "cell_type": "code",
   "execution_count": 211,
   "metadata": {},
   "outputs": [],
   "source": [
    "g = DirectedGraph()\n",
    "for i in range(len(full_df)):\n",
    "    g.add_edge(Edge(full_df.page_title[i], full_df.pl_title[i]))"
   ]
  },
  {
   "cell_type": "code",
   "execution_count": 212,
   "metadata": {
    "scrolled": true
   },
   "outputs": [
    {
     "data": {
      "text/plain": [
       "{'Computer_programming', 'Data', 'Statistics'}"
      ]
     },
     "execution_count": 212,
     "metadata": {},
     "output_type": "execute_result"
    }
   ],
   "source": [
    "g['Analytics']"
   ]
  },
  {
   "cell_type": "code",
   "execution_count": 215,
   "metadata": {},
   "outputs": [],
   "source": [
    "def bfs(graph: DirectedGraph, start: str):\n",
    "    \n",
    "    seen = set()\n",
    "    v_queue = deque()\n",
    "    v_queue.append((start, 0))\n",
    "    result = []\n",
    "    while v_queue:\n",
    "        current, current_level = v_queue.popleft()\n",
    "        if graph[current] is not None:\n",
    "            children = [edge for edge in graph[current]]\n",
    "        else:\n",
    "            continue\n",
    "        for child in children:\n",
    "            if child not in seen:\n",
    "                seen.add(child)\n",
    "                child_level = (child, current_level + 1)\n",
    "                v_queue.append(child_level)\n",
    "                result.append(child_level)\n",
    "                \n",
    "    return result"
   ]
  },
  {
   "cell_type": "code",
   "execution_count": 233,
   "metadata": {
    "scrolled": true
   },
   "outputs": [
    {
     "name": "stdout",
     "output_type": "stream",
     "text": [
      "('Algorithm', 4)\n"
     ]
    }
   ],
   "source": [
    "# Задача №1\n",
    "\n",
    "answer = bfs(g, 'Analytics')\n",
    "for i in answer:\n",
    "    if i[0] == 'Algorithm':\n",
    "        print(i)"
   ]
  },
  {
   "cell_type": "code",
   "execution_count": 217,
   "metadata": {},
   "outputs": [],
   "source": [
    "# Задача №2\n",
    "\n",
    "def bfs_second_task(graph: DirectedGraph, start: str):\n",
    "    seen = set()\n",
    "    v_queue = deque()\n",
    "    v_queue.append((start, 0))\n",
    "    result = 0\n",
    "    while v_queue:\n",
    "        current, current_level = v_queue.popleft()\n",
    "        if graph[current] is not None and 'Algorithm' in graph[current]:\n",
    "            result += 1\n",
    "            return result\n",
    "        else:\n",
    "            return result"
   ]
  },
  {
   "cell_type": "code",
   "execution_count": 234,
   "metadata": {},
   "outputs": [
    {
     "data": {
      "text/plain": [
       "'Computer_science'"
      ]
     },
     "execution_count": 234,
     "metadata": {},
     "output_type": "execute_result"
    }
   ],
   "source": [
    "potential_articles = []\n",
    "for i in answer:\n",
    "    if i[1] == 3:\n",
    "        potential_articles.append(i[0])\n",
    "\n",
    "status = []\n",
    "for i in potential_articles:\n",
    "    status.append(bfs_second_task(g, i))\n",
    "\n",
    "solution_task2 = pd.DataFrame(zip(potential_articles, status), columns = ['potential_articles', 'status'])\n",
    "answer_task2 = solution_task2[solution_task2.status == 1].potential_articles.values.tolist()[0]\n",
    "answer_task2"
   ]
  },
  {
   "cell_type": "code",
   "execution_count": 235,
   "metadata": {},
   "outputs": [],
   "source": [
    "# Задача №3\n",
    "\n",
    "WeightedEdge = namedtuple('Edge', 'src dst distance')\n",
    "\n",
    "class WeightedDirectedGraph:\n",
    "    \n",
    "    def __init__(self):\n",
    "        self.neighbors = defaultdict(set)\n",
    "        self.nodes = set()\n",
    "        \n",
    "    def add_edge(self, edge: WeightedEdge):\n",
    "        self.neighbors[edge.src].add(edge)\n",
    "        self.nodes.add(edge.src)\n",
    "        self.nodes.add(edge.dst)\n",
    "            \n",
    "    def __getitem__(self, item):\n",
    "        return self.neighbors.get(item, [])\n",
    "\n"
   ]
  },
  {
   "cell_type": "code",
   "execution_count": 236,
   "metadata": {},
   "outputs": [],
   "source": [
    "wg = WeightedDirectedGraph()\n",
    "\n",
    "for i in range(len(full_df)):\n",
    "    wg.add_edge(WeightedEdge(full_df.page_title[i], full_df.pl_title[i], len(full_df.pl_title[i])))"
   ]
  },
  {
   "cell_type": "code",
   "execution_count": 227,
   "metadata": {},
   "outputs": [],
   "source": [
    "def dijkstra(graph: WeightedDirectedGraph, start):\n",
    "    heap, seen_vertices, min_distances = [(0, start)], set(), {start: 0}\n",
    "    steps = []\n",
    "    while heap: # O(V)\n",
    "        curr_distance, current_vertex = heappop(heap) #O(logV) # start in vertex with min score\n",
    "        if current_vertex not in seen_vertices:\n",
    "            \n",
    "            for _, next_vertex, distance in graph.neighbors.get(current_vertex, []): # O(E)\n",
    "                if next_vertex in seen_vertices:\n",
    "                    continue\n",
    "                    \n",
    "                prev_min_distance = min_distances.get(next_vertex)\n",
    "                new_distance = curr_distance + distance\n",
    "                \n",
    "                if prev_min_distance is None or new_distance < prev_min_distance:\n",
    "                    min_distances[next_vertex] = new_distance\n",
    "                    heappush(heap, (new_distance, next_vertex)) # O(logV)\n",
    "                    \n",
    "            seen_vertices.add(current_vertex)\n",
    "\n",
    "    return min_distances"
   ]
  },
  {
   "cell_type": "code",
   "execution_count": 229,
   "metadata": {},
   "outputs": [],
   "source": [
    "dists = dijkstra(wg, 'Analytics')"
   ]
  },
  {
   "cell_type": "code",
   "execution_count": 250,
   "metadata": {},
   "outputs": [
    {
     "data": {
      "text/plain": [
       "29"
      ]
     },
     "execution_count": 250,
     "metadata": {},
     "output_type": "execute_result"
    }
   ],
   "source": [
    "answer_task3 = dists['Algorithm']\n",
    "answer_task3"
   ]
  },
  {
   "cell_type": "code",
   "execution_count": 247,
   "metadata": {},
   "outputs": [],
   "source": [
    "# Задача №4\n",
    "\n",
    "def dijkstra_fourth_task(graph: WeightedDirectedGraph, start):\n",
    "    heap, seen_vertices, min_distances = [(0, start)], set(), {start: (0, start)}\n",
    "    steps = []\n",
    "    while heap: # O(V)\n",
    "        curr_distance, current_vertex = heappop(heap) #O(logV) # start in vertex with min score\n",
    "        if current_vertex not in seen_vertices:\n",
    "            \n",
    "            for _, next_vertex, distance in graph.neighbors.get(current_vertex, []): # O(E)\n",
    "                if next_vertex in seen_vertices:\n",
    "                    continue\n",
    "                \n",
    "                if min_distances.get(next_vertex) is not None:\n",
    "                    prev_min_distance = min_distances.get(next_vertex)[0]\n",
    "                else:\n",
    "                    prev_min_distance = None\n",
    "                \n",
    "                new_distance = curr_distance + distance\n",
    "                \n",
    "                if prev_min_distance is None or new_distance < prev_min_distance:\n",
    "                    min_distances[next_vertex] = (new_distance, current_vertex)\n",
    "                    heappush(heap, (new_distance, next_vertex)) # O(logV)\n",
    "                    \n",
    "            seen_vertices.add(current_vertex)\n",
    "\n",
    "    return min_distances"
   ]
  },
  {
   "cell_type": "code",
   "execution_count": 251,
   "metadata": {},
   "outputs": [
    {
     "data": {
      "text/plain": [
       "'Logic'"
      ]
     },
     "execution_count": 251,
     "metadata": {},
     "output_type": "execute_result"
    }
   ],
   "source": [
    "dists_fourth_task = dijkstra_fourth_task(wg, 'Analytics')\n",
    "answer_task4 = dists_fourth_task['Algorithm'][1]\n",
    "answer_task4"
   ]
  }
 ],
 "metadata": {
  "kernelspec": {
   "display_name": "semarkov_jh",
   "language": "python",
   "name": "semarkov_jh"
  },
  "language_info": {
   "codemirror_mode": {
    "name": "ipython",
    "version": 3
   },
   "file_extension": ".py",
   "mimetype": "text/x-python",
   "name": "python",
   "nbconvert_exporter": "python",
   "pygments_lexer": "ipython3",
   "version": "3.9.10"
  },
  "toc": {
   "base_numbering": 1,
   "nav_menu": {},
   "number_sections": false,
   "sideBar": false,
   "skip_h1_title": false,
   "title_cell": "Table of Contents",
   "title_sidebar": "Contents",
   "toc_cell": false,
   "toc_position": {},
   "toc_section_display": false,
   "toc_window_display": false
  }
 },
 "nbformat": 4,
 "nbformat_minor": 4
}
